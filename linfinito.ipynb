{
 "cells": [
  {
   "cell_type": "markdown",
   "metadata": {},
   "source": [
    "# Come creare l'istogramma dei caratteri di un testo\n",
    "\n",
    "Per questo esercizio possiamo usare \n",
    "\n",
    "1. la libreria nativa di Python.\n",
    "2. matplotlib\n",
    "3. i dataframe di pandas\n",
    "\n",
    "Consideriamo per esercizio un testo breve. Prenderò l'Infinito di Leopardi.\n",
    "Immaginiamo di avere il file salvato in formato testuale nella stessa cartella di questo notebook.\n",
    "Possiamo usare il pattern **with open** che è molto comodo perché ci consente di omettere il file close() alla fine della serie di istruzioni che ci interessa."
   ]
  },
  {
   "cell_type": "code",
   "execution_count": 1,
   "metadata": {},
   "outputs": [
    {
     "name": "stdout",
     "output_type": "stream",
     "text": [
      "Sempre caro mi fu quest'ermo colle,\n",
      "\n",
      "E questa siepe, che da tanta parte\n",
      "\n",
      "Dell'ultimo orizzonte il guardo esclude.\n",
      "\n",
      "Ma sedendo e mirando, interminati\n",
      "\n",
      "Spazi di là da quella, e sovrumani\n",
      "\n",
      "Silenzi, e profondissima quiete\n",
      "\n",
      "Io nel pensier mi fingo; ove per poco\n",
      "\n",
      "Il cor non si spaura. E come il vento\n",
      "\n",
      "Odo stormir tra queste piante, io quello\n",
      "\n",
      "Infinito silenzio a questa voce\n",
      "\n",
      "Vo comparando: e mi sovvien l'eterno,\n",
      "\n",
      "E le morte stagioni, e la presente\n",
      "\n",
      "E viva, e il suon di lei. Così tra questa\n",
      "\n",
      "Immensità s'annega il pensier mio:\n",
      "\n",
      "E il naufragar m'è dolce in questo mare.\n"
     ]
    }
   ],
   "source": [
    "with open('linfinito.txt',mode='r') as f:\n",
    "    lines = f.readlines()\n",
    "    for word in lines:\n",
    "        print(word)"
   ]
  },
  {
   "cell_type": "markdown",
   "metadata": {},
   "source": [
    "## Bene!\n",
    "\n",
    "Come vedi abbiamo usato il ciclo **for** per stampare a schermo ogni singola riga del file, ovvero tutti i versi della poesia.\n",
    "\n",
    "## Lista delle lettere del testo\n",
    "\n",
    "Ora la tecnica più immediata per creare una lista di lettere che include tutti caratteri della poesia è un **list comprehension**. Nota che se a questa tecnica avessi preferito un ciclo for annidato in un altro ciclo for avrei ottenuto prestazioni inferiori e pertanto non scalabili. La list comprehension va molto meglio."
   ]
  },
  {
   "cell_type": "code",
   "execution_count": 2,
   "metadata": {},
   "outputs": [
    {
     "name": "stdout",
     "output_type": "stream",
     "text": [
      "['S', 'e', 'm', 'p', 'r', 'e', ' ', 'c', 'a', 'r', 'o', ' ', 'm', 'i', ' ', 'f', 'u', ' ', 'q', 'u', 'e', 's', 't', \"'\", 'e', 'r', 'm', 'o', ' ', 'c', 'o', 'l', 'l', 'e', ',', '\\n', 'E', ' ', 'q', 'u', 'e', 's', 't', 'a', ' ', 's', 'i', 'e', 'p', 'e', ',', ' ', 'c', 'h', 'e', ' ', 'd', 'a', ' ', 't', 'a', 'n', 't', 'a', ' ', 'p', 'a', 'r', 't', 'e', '\\n', 'D', 'e', 'l', 'l', \"'\", 'u', 'l', 't', 'i', 'm', 'o', ' ', 'o', 'r', 'i', 'z', 'z', 'o', 'n', 't', 'e', ' ', 'i', 'l', ' ', 'g', 'u', 'a', 'r', 'd', 'o', ' ', 'e', 's', 'c', 'l', 'u', 'd', 'e', '.', '\\n', 'M', 'a', ' ', 's', 'e', 'd', 'e', 'n', 'd', 'o', ' ', 'e', ' ', 'm', 'i', 'r', 'a', 'n', 'd', 'o', ',', ' ', 'i', 'n', 't', 'e', 'r', 'm', 'i', 'n', 'a', 't', 'i', '\\n', 'S', 'p', 'a', 'z', 'i', ' ', 'd', 'i', ' ', 'l', 'à', ' ', 'd', 'a', ' ', 'q', 'u', 'e', 'l', 'l', 'a', ',', ' ', 'e', ' ', 's', 'o', 'v', 'r', 'u', 'm', 'a', 'n', 'i', '\\n', 'S', 'i', 'l', 'e', 'n', 'z', 'i', ',', ' ', 'e', ' ', 'p', 'r', 'o', 'f', 'o', 'n', 'd', 'i', 's', 's', 'i', 'm', 'a', ' ', 'q', 'u', 'i', 'e', 't', 'e', '\\n', 'I', 'o', ' ', 'n', 'e', 'l', ' ', 'p', 'e', 'n', 's', 'i', 'e', 'r', ' ', 'm', 'i', ' ', 'f', 'i', 'n', 'g', 'o', ';', ' ', 'o', 'v', 'e', ' ', 'p', 'e', 'r', ' ', 'p', 'o', 'c', 'o', '\\n', 'I', 'l', ' ', 'c', 'o', 'r', ' ', 'n', 'o', 'n', ' ', 's', 'i', ' ', 's', 'p', 'a', 'u', 'r', 'a', '.', ' ', 'E', ' ', 'c', 'o', 'm', 'e', ' ', 'i', 'l', ' ', 'v', 'e', 'n', 't', 'o', '\\n', 'O', 'd', 'o', ' ', 's', 't', 'o', 'r', 'm', 'i', 'r', ' ', 't', 'r', 'a', ' ', 'q', 'u', 'e', 's', 't', 'e', ' ', 'p', 'i', 'a', 'n', 't', 'e', ',', ' ', 'i', 'o', ' ', 'q', 'u', 'e', 'l', 'l', 'o', '\\n', 'I', 'n', 'f', 'i', 'n', 'i', 't', 'o', ' ', 's', 'i', 'l', 'e', 'n', 'z', 'i', 'o', ' ', 'a', ' ', 'q', 'u', 'e', 's', 't', 'a', ' ', 'v', 'o', 'c', 'e', '\\n', 'V', 'o', ' ', 'c', 'o', 'm', 'p', 'a', 'r', 'a', 'n', 'd', 'o', ':', ' ', 'e', ' ', 'm', 'i', ' ', 's', 'o', 'v', 'v', 'i', 'e', 'n', ' ', 'l', \"'\", 'e', 't', 'e', 'r', 'n', 'o', ',', '\\n', 'E', ' ', 'l', 'e', ' ', 'm', 'o', 'r', 't', 'e', ' ', 's', 't', 'a', 'g', 'i', 'o', 'n', 'i', ',', ' ', 'e', ' ', 'l', 'a', ' ', 'p', 'r', 'e', 's', 'e', 'n', 't', 'e', '\\n', 'E', ' ', 'v', 'i', 'v', 'a', ',', ' ', 'e', ' ', 'i', 'l', ' ', 's', 'u', 'o', 'n', ' ', 'd', 'i', ' ', 'l', 'e', 'i', '.', ' ', 'C', 'o', 's', 'ì', ' ', 't', 'r', 'a', ' ', 'q', 'u', 'e', 's', 't', 'a', '\\n', 'I', 'm', 'm', 'e', 'n', 's', 'i', 't', 'à', ' ', 's', \"'\", 'a', 'n', 'n', 'e', 'g', 'a', ' ', 'i', 'l', ' ', 'p', 'e', 'n', 's', 'i', 'e', 'r', ' ', 'm', 'i', 'o', ':', '\\n', 'E', ' ', 'i', 'l', ' ', 'n', 'a', 'u', 'f', 'r', 'a', 'g', 'a', 'r', ' ', 'm', \"'\", 'è', ' ', 'd', 'o', 'l', 'c', 'e', ' ', 'i', 'n', ' ', 'q', 'u', 'e', 's', 't', 'o', ' ', 'm', 'a', 'r', 'e', '.']\n"
     ]
    }
   ],
   "source": [
    "let_comprehension = [ch for word in lines for ch in word]\n",
    "print(let_comprehension)"
   ]
  },
  {
   "cell_type": "markdown",
   "metadata": {},
   "source": [
    "Come vedi il risultato non è bello da vedere, ma il computer può accedere con più facilità ad ogni singolo carattere. Nota che \\n vuol dire \"vai a capo\". \n",
    "\n",
    "Qui ho omesso volontarimante di trattare le maiuscole come le minuscole e quindi tutto l'esercizio sarà case-sensitive. Anche le lettere accentate e la punteggiatura saranno trattati come caratteri distinti.\n",
    "\n",
    "## Lista di caratteri contati una sola volta\n",
    "\n",
    "Hai visto che in let_comprehension abbiamo molti doppioni? Passiamo allora alla lista dei caratteri contati singolarmente. E mettiamo le voci in ordine. Assoceremo queste voci alla lista delle frequenze per poi generare il nostro bel grafico a barre: l'istogramma!"
   ]
  },
  {
   "cell_type": "code",
   "execution_count": 3,
   "metadata": {},
   "outputs": [
    {
     "name": "stdout",
     "output_type": "stream",
     "text": [
      "['\\n', ' ', \"'\", ',', '.', ':', ';', 'C', 'D', 'E', 'I', 'M', 'O', 'S', 'V', 'a', 'c', 'd', 'e', 'f', 'g', 'h', 'i', 'l', 'm', 'n', 'o', 'p', 'q', 'r', 's', 't', 'u', 'v', 'z', 'à', 'è', 'ì']\n"
     ]
    }
   ],
   "source": [
    "letter_set_list = list(set(let_comprehension))\n",
    "letter_set_list.sort()\n",
    "print(letter_set_list)"
   ]
  },
  {
   "cell_type": "markdown",
   "metadata": {},
   "source": [
    "## Frequenze\n",
    "\n",
    "Passiamo le frequenze come valori di un dizionario le cui chiavi sono le voci di letter_set_list"
   ]
  },
  {
   "cell_type": "code",
   "execution_count": 4,
   "metadata": {},
   "outputs": [
    {
     "name": "stdout",
     "output_type": "stream",
     "text": [
      "{'\\n': 14, ' ': 84, \"'\": 5, ',': 9, '.': 4, ':': 2, ';': 1, 'C': 1, 'D': 1, 'E': 5, 'I': 4, 'M': 1, 'O': 1, 'S': 3, 'V': 1, 'a': 34, 'c': 10, 'd': 13, 'e': 58, 'f': 5, 'g': 5, 'h': 1, 'i': 43, 'l': 25, 'm': 19, 'n': 31, 'o': 40, 'p': 13, 'q': 9, 'r': 26, 's': 25, 't': 25, 'u': 17, 'v': 8, 'z': 5, 'à': 2, 'è': 1, 'ì': 1}\n"
     ]
    }
   ],
   "source": [
    "letter_freq = {}\n",
    "for i in letter_set_list:\n",
    "    letter_freq[i] = let_comprehension.count(i)\n",
    "    \n",
    "print(letter_freq)"
   ]
  },
  {
   "cell_type": "markdown",
   "metadata": {},
   "source": [
    "## L'istogramma\n",
    "\n",
    "Ora possiamo usare un codice Python nativo per rappresentare le barre dell'istogramma in orizzontale in modo molto conciso:"
   ]
  },
  {
   "cell_type": "code",
   "execution_count": 5,
   "metadata": {
    "scrolled": false
   },
   "outputs": [
    {
     "name": "stdout",
     "output_type": "stream",
     "text": [
      "Istogramma dei caratteri di \"L'Infinito\" di G.Leopardi \n",
      "\n",
      "\\n 14 ██████████████\n",
      "   84 ████████████████████████████████████████████████████████████████████████████████████\n",
      "'   5 █████\n",
      ",   9 █████████\n",
      ".   4 ████\n",
      ":   2 ██\n",
      ";   1 █\n",
      "C   1 █\n",
      "D   1 █\n",
      "E   5 █████\n",
      "I   4 ████\n",
      "M   1 █\n",
      "O   1 █\n",
      "S   3 ███\n",
      "V   1 █\n",
      "a  34 ██████████████████████████████████\n",
      "c  10 ██████████\n",
      "d  13 █████████████\n",
      "e  58 ██████████████████████████████████████████████████████████\n",
      "f   5 █████\n",
      "g   5 █████\n",
      "h   1 █\n",
      "i  43 ███████████████████████████████████████████\n",
      "l  25 █████████████████████████\n",
      "m  19 ███████████████████\n",
      "n  31 ███████████████████████████████\n",
      "o  40 ████████████████████████████████████████\n",
      "p  13 █████████████\n",
      "q   9 █████████\n",
      "r  26 ██████████████████████████\n",
      "s  25 █████████████████████████\n",
      "t  25 █████████████████████████\n",
      "u  17 █████████████████\n",
      "v   8 ████████\n",
      "z   5 █████\n",
      "à   2 ██\n",
      "è   1 █\n",
      "ì   1 █\n"
     ]
    }
   ],
   "source": [
    "u=chr(9608)\n",
    "print('Istogramma dei caratteri di \"L\\'Infinito\" di G.Leopardi \\n')\n",
    "for k,v in letter_freq.items():\n",
    "    if k == '\\n':\n",
    "        print('{:2}'.format('\\\\n'),'{:2}'.format(v),v*u)\n",
    "    else:\n",
    "        print('{:2}'.format(k),'{:2}'.format(v),v*u)"
   ]
  },
  {
   "cell_type": "code",
   "execution_count": 6,
   "metadata": {},
   "outputs": [],
   "source": [
    "with open('output.txt',mode='w',encoding='utf-8') as f:\n",
    "    u=chr(9608)\n",
    "    f.write('Istogramma dei caratteri di \"L\\'Infinito\" di G.Leopardi \\n\\n')\n",
    "    for k,v in letter_freq.items():\n",
    "        if k == '\\n':\n",
    "            r = '{:3}'.format('\\\\n') + '{:3}'.format(v) + v*u + '\\n'\n",
    "            f.write(r)\n",
    "        else:\n",
    "            r = '{:3}'.format(k) + '{:3}'.format(v) + v*u + '\\n'\n",
    "            f.write(r)"
   ]
  },
  {
   "cell_type": "markdown",
   "metadata": {},
   "source": [
    "## Matplotlib"
   ]
  },
  {
   "cell_type": "code",
   "execution_count": 7,
   "metadata": {},
   "outputs": [],
   "source": [
    "import matplotlib.pyplot as plt"
   ]
  },
  {
   "cell_type": "code",
   "execution_count": 8,
   "metadata": {},
   "outputs": [
    {
     "data": {
      "image/png": "[encoded data removed]",
      "text/plain": [
       "<Figure size 1368x1080 with 1 Axes>"
      ]
     },
     "metadata": {},
     "output_type": "display_data"
    }
   ],
   "source": [
    "x = range(len(letter_freq.keys()))\n",
    "y = letter_freq.values()\n",
    "bar_labels = letter_set_list\n",
    "tick_labels = [ch.encode('utf').decode('utf') for ch in letter_set_list]\n",
    "\n",
    "fig1 = plt.figure(figsize=(19,15))\n",
    "p1 = plt.bar(x,y,align='center')\n",
    "\n",
    "plt.title('Istogramma dei caratteri de \"L\\'Infinito\" di G. Leopardi',fontsize=20,fontweight='bold')\n",
    "plt.ylabel('Conteggi',fontsize=18)\n",
    "\n",
    "for _x, _y, t in zip(x, y, bar_labels):\n",
    "    plt.annotate(t, (_x, _y), fontsize=14, ha='center',\n",
    "                xytext=(0, 0), textcoords='offset pixels',\n",
    "                bbox={'facecolor': 'w','alpha':0.5})\n",
    "\n",
    "plt.xticks(fontsize=14)\n",
    "plt.yticks(range(0,90,2),fontsize=14)\n",
    "\n",
    "plt.grid(axis='y')\n",
    "plt.show()\n",
    "\n",
    "fig1.savefig('p1.png')\n",
    "plt.close(fig1) "
   ]
  },
  {
   "cell_type": "markdown",
   "metadata": {},
   "source": [
    "# Pandas"
   ]
  },
  {
   "cell_type": "markdown",
   "metadata": {},
   "source": [
    "Con pandas puoi gestire i dati con un comodo dataframe. Rispetto all'uso diretto della libreria matplotlib, pandas ti porta direttamente ad un risultato ordinato."
   ]
  },
  {
   "cell_type": "code",
   "execution_count": 9,
   "metadata": {},
   "outputs": [],
   "source": [
    "import pandas as pd"
   ]
  },
  {
   "cell_type": "code",
   "execution_count": 10,
   "metadata": {},
   "outputs": [],
   "source": [
    "df = pd.DataFrame(let_comprehension,columns=['Caratteri'])"
   ]
  },
  {
   "cell_type": "code",
   "execution_count": 11,
   "metadata": {},
   "outputs": [
    {
     "data": {
      "text/html": [
       "<div>\n",
       "<style scoped>\n",
       "    .dataframe tbody tr th:only-of-type {\n",
       "        vertical-align: middle;\n",
       "    }\n",
       "\n",
       "    .dataframe tbody tr th {\n",
       "        vertical-align: top;\n",
       "    }\n",
       "\n",
       "    .dataframe thead th {\n",
       "        text-align: right;\n",
       "    }\n",
       "</style>\n",
       "<table border=\"1\" class=\"dataframe\">\n",
       "  <thead>\n",
       "    <tr style=\"text-align: right;\">\n",
       "      <th></th>\n",
       "      <th>Caratteri</th>\n",
       "    </tr>\n",
       "  </thead>\n",
       "  <tbody>\n",
       "    <tr>\n",
       "      <th>0</th>\n",
       "      <td>S</td>\n",
       "    </tr>\n",
       "    <tr>\n",
       "      <th>1</th>\n",
       "      <td>e</td>\n",
       "    </tr>\n",
       "    <tr>\n",
       "      <th>2</th>\n",
       "      <td>m</td>\n",
       "    </tr>\n",
       "    <tr>\n",
       "      <th>3</th>\n",
       "      <td>p</td>\n",
       "    </tr>\n",
       "    <tr>\n",
       "      <th>4</th>\n",
       "      <td>r</td>\n",
       "    </tr>\n",
       "    <tr>\n",
       "      <th>5</th>\n",
       "      <td>e</td>\n",
       "    </tr>\n",
       "    <tr>\n",
       "      <th>6</th>\n",
       "      <td></td>\n",
       "    </tr>\n",
       "    <tr>\n",
       "      <th>7</th>\n",
       "      <td>c</td>\n",
       "    </tr>\n",
       "    <tr>\n",
       "      <th>8</th>\n",
       "      <td>a</td>\n",
       "    </tr>\n",
       "    <tr>\n",
       "      <th>9</th>\n",
       "      <td>r</td>\n",
       "    </tr>\n",
       "    <tr>\n",
       "      <th>10</th>\n",
       "      <td>o</td>\n",
       "    </tr>\n",
       "    <tr>\n",
       "      <th>11</th>\n",
       "      <td></td>\n",
       "    </tr>\n",
       "    <tr>\n",
       "      <th>12</th>\n",
       "      <td>m</td>\n",
       "    </tr>\n",
       "    <tr>\n",
       "      <th>13</th>\n",
       "      <td>i</td>\n",
       "    </tr>\n",
       "    <tr>\n",
       "      <th>14</th>\n",
       "      <td></td>\n",
       "    </tr>\n",
       "    <tr>\n",
       "      <th>15</th>\n",
       "      <td>f</td>\n",
       "    </tr>\n",
       "    <tr>\n",
       "      <th>16</th>\n",
       "      <td>u</td>\n",
       "    </tr>\n",
       "    <tr>\n",
       "      <th>17</th>\n",
       "      <td></td>\n",
       "    </tr>\n",
       "    <tr>\n",
       "      <th>18</th>\n",
       "      <td>q</td>\n",
       "    </tr>\n",
       "    <tr>\n",
       "      <th>19</th>\n",
       "      <td>u</td>\n",
       "    </tr>\n",
       "    <tr>\n",
       "      <th>20</th>\n",
       "      <td>e</td>\n",
       "    </tr>\n",
       "    <tr>\n",
       "      <th>21</th>\n",
       "      <td>s</td>\n",
       "    </tr>\n",
       "    <tr>\n",
       "      <th>22</th>\n",
       "      <td>t</td>\n",
       "    </tr>\n",
       "    <tr>\n",
       "      <th>23</th>\n",
       "      <td>'</td>\n",
       "    </tr>\n",
       "    <tr>\n",
       "      <th>24</th>\n",
       "      <td>e</td>\n",
       "    </tr>\n",
       "    <tr>\n",
       "      <th>25</th>\n",
       "      <td>r</td>\n",
       "    </tr>\n",
       "    <tr>\n",
       "      <th>26</th>\n",
       "      <td>m</td>\n",
       "    </tr>\n",
       "    <tr>\n",
       "      <th>27</th>\n",
       "      <td>o</td>\n",
       "    </tr>\n",
       "    <tr>\n",
       "      <th>28</th>\n",
       "      <td></td>\n",
       "    </tr>\n",
       "    <tr>\n",
       "      <th>29</th>\n",
       "      <td>c</td>\n",
       "    </tr>\n",
       "    <tr>\n",
       "      <th>...</th>\n",
       "      <td>...</td>\n",
       "    </tr>\n",
       "    <tr>\n",
       "      <th>522</th>\n",
       "      <td>a</td>\n",
       "    </tr>\n",
       "    <tr>\n",
       "      <th>523</th>\n",
       "      <td>g</td>\n",
       "    </tr>\n",
       "    <tr>\n",
       "      <th>524</th>\n",
       "      <td>a</td>\n",
       "    </tr>\n",
       "    <tr>\n",
       "      <th>525</th>\n",
       "      <td>r</td>\n",
       "    </tr>\n",
       "    <tr>\n",
       "      <th>526</th>\n",
       "      <td></td>\n",
       "    </tr>\n",
       "    <tr>\n",
       "      <th>527</th>\n",
       "      <td>m</td>\n",
       "    </tr>\n",
       "    <tr>\n",
       "      <th>528</th>\n",
       "      <td>'</td>\n",
       "    </tr>\n",
       "    <tr>\n",
       "      <th>529</th>\n",
       "      <td>è</td>\n",
       "    </tr>\n",
       "    <tr>\n",
       "      <th>530</th>\n",
       "      <td></td>\n",
       "    </tr>\n",
       "    <tr>\n",
       "      <th>531</th>\n",
       "      <td>d</td>\n",
       "    </tr>\n",
       "    <tr>\n",
       "      <th>532</th>\n",
       "      <td>o</td>\n",
       "    </tr>\n",
       "    <tr>\n",
       "      <th>533</th>\n",
       "      <td>l</td>\n",
       "    </tr>\n",
       "    <tr>\n",
       "      <th>534</th>\n",
       "      <td>c</td>\n",
       "    </tr>\n",
       "    <tr>\n",
       "      <th>535</th>\n",
       "      <td>e</td>\n",
       "    </tr>\n",
       "    <tr>\n",
       "      <th>536</th>\n",
       "      <td></td>\n",
       "    </tr>\n",
       "    <tr>\n",
       "      <th>537</th>\n",
       "      <td>i</td>\n",
       "    </tr>\n",
       "    <tr>\n",
       "      <th>538</th>\n",
       "      <td>n</td>\n",
       "    </tr>\n",
       "    <tr>\n",
       "      <th>539</th>\n",
       "      <td></td>\n",
       "    </tr>\n",
       "    <tr>\n",
       "      <th>540</th>\n",
       "      <td>q</td>\n",
       "    </tr>\n",
       "    <tr>\n",
       "      <th>541</th>\n",
       "      <td>u</td>\n",
       "    </tr>\n",
       "    <tr>\n",
       "      <th>542</th>\n",
       "      <td>e</td>\n",
       "    </tr>\n",
       "    <tr>\n",
       "      <th>543</th>\n",
       "      <td>s</td>\n",
       "    </tr>\n",
       "    <tr>\n",
       "      <th>544</th>\n",
       "      <td>t</td>\n",
       "    </tr>\n",
       "    <tr>\n",
       "      <th>545</th>\n",
       "      <td>o</td>\n",
       "    </tr>\n",
       "    <tr>\n",
       "      <th>546</th>\n",
       "      <td></td>\n",
       "    </tr>\n",
       "    <tr>\n",
       "      <th>547</th>\n",
       "      <td>m</td>\n",
       "    </tr>\n",
       "    <tr>\n",
       "      <th>548</th>\n",
       "      <td>a</td>\n",
       "    </tr>\n",
       "    <tr>\n",
       "      <th>549</th>\n",
       "      <td>r</td>\n",
       "    </tr>\n",
       "    <tr>\n",
       "      <th>550</th>\n",
       "      <td>e</td>\n",
       "    </tr>\n",
       "    <tr>\n",
       "      <th>551</th>\n",
       "      <td>.</td>\n",
       "    </tr>\n",
       "  </tbody>\n",
       "</table>\n",
       "<p>552 rows × 1 columns</p>\n",
       "</div>"
      ],
      "text/plain": [
       "    Caratteri\n",
       "0           S\n",
       "1           e\n",
       "2           m\n",
       "3           p\n",
       "4           r\n",
       "5           e\n",
       "6            \n",
       "7           c\n",
       "8           a\n",
       "9           r\n",
       "10          o\n",
       "11           \n",
       "12          m\n",
       "13          i\n",
       "14           \n",
       "15          f\n",
       "16          u\n",
       "17           \n",
       "18          q\n",
       "19          u\n",
       "20          e\n",
       "21          s\n",
       "22          t\n",
       "23          '\n",
       "24          e\n",
       "25          r\n",
       "26          m\n",
       "27          o\n",
       "28           \n",
       "29          c\n",
       "..        ...\n",
       "522         a\n",
       "523         g\n",
       "524         a\n",
       "525         r\n",
       "526          \n",
       "527         m\n",
       "528         '\n",
       "529         è\n",
       "530          \n",
       "531         d\n",
       "532         o\n",
       "533         l\n",
       "534         c\n",
       "535         e\n",
       "536          \n",
       "537         i\n",
       "538         n\n",
       "539          \n",
       "540         q\n",
       "541         u\n",
       "542         e\n",
       "543         s\n",
       "544         t\n",
       "545         o\n",
       "546          \n",
       "547         m\n",
       "548         a\n",
       "549         r\n",
       "550         e\n",
       "551         .\n",
       "\n",
       "[552 rows x 1 columns]"
      ]
     },
     "execution_count": 11,
     "metadata": {},
     "output_type": "execute_result"
    }
   ],
   "source": [
    "df"
   ]
  },
  {
   "cell_type": "code",
   "execution_count": 12,
   "metadata": {},
   "outputs": [
    {
     "data": {
      "text/plain": [
       "array([84, 58, 43, 40, 34, 31, 26, 25, 25, 25, 19, 17, 14, 13, 13, 10,  9,\n",
       "        9,  8,  5,  5,  5,  5,  5,  4,  4,  3,  2,  2,  1,  1,  1,  1,  1,\n",
       "        1,  1,  1,  1], dtype=int64)"
      ]
     },
     "execution_count": 12,
     "metadata": {},
     "output_type": "execute_result"
    }
   ],
   "source": [
    "df.Caratteri.value_counts().values"
   ]
  },
  {
   "cell_type": "code",
   "execution_count": 13,
   "metadata": {},
   "outputs": [
    {
     "data": {
      "image/png": "[encoded data removed]",
      "text/plain": [
       "<Figure size 1368x1080 with 1 Axes>"
      ]
     },
     "metadata": {},
     "output_type": "display_data"
    }
   ],
   "source": [
    "fig2 = plt.figure(figsize=(19,15))\n",
    "\n",
    "plt.title('Istogramma dei caratteri de \"L\\'Infinito\" di G. Leopardi',fontsize=20,fontweight='bold')\n",
    "plt.ylabel('Conteggi',fontsize=18)\n",
    "\n",
    "x = df.Caratteri.value_counts().index\n",
    "y = df.Caratteri.value_counts().values\n",
    "bar_labels = df.Caratteri.value_counts().index\n",
    "\n",
    "p2 = plt.bar(x,y)\n",
    "plt.xticks(fontsize=14)\n",
    "plt.yticks(range(0,90,2),fontsize=14)\n",
    "plt.grid(axis='y')\n",
    "for _x, _y, t in zip(x, y, bar_labels):\n",
    "    plt.annotate(t, (_x, _y), fontsize=14, ha='center',\n",
    "                xytext=(0, 0), textcoords='offset pixels',\n",
    "                bbox={'facecolor': 'w','alpha':0.5})\n",
    "\n",
    "plt.show()\n",
    "\n",
    "fig2.savefig('p2.png')\n",
    "plt.close(fig2) "
   ]
  },
  {
   "cell_type": "markdown",
   "metadata": {},
   "source": [
    "# Conclusione\n",
    "\n",
    "Oggi abbiamo visto 3 modi per visualizzare gli istogrammi di caratteri di un testo"
   ]
  }
 ],
 "metadata": {
  "kernelspec": {
   "display_name": "Python 3",
   "language": "python",
   "name": "python3"
  },
  "language_info": {
   "codemirror_mode": {
    "name": "ipython",
    "version": 3
   },
   "file_extension": ".py",
   "mimetype": "text/x-python",
   "name": "python",
   "nbconvert_exporter": "python",
   "pygments_lexer": "ipython3",
   "version": "3.6.6"
  }
 },
 "nbformat": 4,
 "nbformat_minor": 2
}
